{
 "cells": [
  {
   "cell_type": "code",
   "execution_count": 1,
   "metadata": {},
   "outputs": [
    {
     "name": "stderr",
     "output_type": "stream",
     "text": [
      "/usr/local/lib/python3.8/dist-packages/tqdm/auto.py:22: TqdmWarning: IProgress not found. Please update jupyter and ipywidgets. See https://ipywidgets.readthedocs.io/en/stable/user_install.html\n",
      "  from .autonotebook import tqdm as notebook_tqdm\n"
     ]
    }
   ],
   "source": [
    "from pathlib import Path\n",
    "\n",
    "import yaml\n",
    "import trimesh\n",
    "import h5py\n",
    "\n",
    "from se3dif.visualization import create_gripper_marker\n",
    "\n",
    "from grasping_benchmarks.algorithms.se3dif import Se3DifGraspPlanner\n",
    "from grasping_benchmarks.base import CameraData"
   ]
  },
  {
   "cell_type": "code",
   "execution_count": 2,
   "metadata": {},
   "outputs": [],
   "source": [
    "ACRONYM_DATASET_PATH = Path(\"/home/data/\")"
   ]
  },
  {
   "cell_type": "code",
   "execution_count": 3,
   "metadata": {},
   "outputs": [
    {
     "data": {
      "text/plain": [
       "<trimesh.Trimesh(vertices.shape=(789, 3), faces.shape=(1574, 3))>"
      ]
     },
     "execution_count": 3,
     "metadata": {},
     "output_type": "execute_result"
    }
   ],
   "source": [
    "def load_acronym_mesh(\n",
    "    dataset_path: Path, object_class: str, grasp_uuid: str\n",
    ") -> trimesh.Trimesh:\n",
    "    \"\"\"Loads the mesh associated with the given grasp from the ACRONYM dataset.\n",
    "    Centers the mesh at the origin and scales the mesh according to the scale stored in the dataset.\n",
    "\n",
    "    Args:\n",
    "        dataset_path (Path): Path to the dataset\n",
    "        object_class (str): Object class\n",
    "        grasp_uuid (str): UUID of the grasp\n",
    "    \"\"\"\n",
    "    assert object_class in [\n",
    "        p.name for p in (dataset_path / \"grasps\").iterdir()\n",
    "    ], f\"Object class {object_class} not found in dataset path {dataset_path}/grasps\"\n",
    "\n",
    "    grasp_file_path = list(\n",
    "        (dataset_path / \"grasps\" / object_class).glob(\n",
    "            f\"{object_class}_{grasp_uuid}*.h5\"\n",
    "        )\n",
    "    )\n",
    "\n",
    "    assert len(grasp_file_path) != 0, f\"Grasp file not found: {grasp_file_path}\"\n",
    "    assert len(grasp_file_path) < 2, f\"Multiple grasp files found: {grasp_file_path}\"\n",
    "    grasp_file_path = grasp_file_path[0]\n",
    "\n",
    "    grasp_data = h5py.File(grasp_file_path, \"r\")\n",
    "    mesh_scale = grasp_data[\"object\"][\"scale\"][()]\n",
    "    mesh_file_path = (\n",
    "        dataset_path\n",
    "        / \"meshes\"\n",
    "        / grasp_data[\"object\"][\"file\"][()].decode(\"utf-8\")[len(\"meshes\") + 1 :]\n",
    "    )\n",
    "\n",
    "    mesh = trimesh.load_mesh(mesh_file_path)\n",
    "    if type(mesh) == trimesh.scene.scene.Scene:\n",
    "        mesh = trimesh.util.concatenate(mesh.dump())\n",
    "    mesh = mesh.apply_translation(-mesh.centroid)\n",
    "    mesh = mesh.apply_scale(mesh_scale)\n",
    "\n",
    "    return mesh\n",
    "\n",
    "mesh = load_acronym_mesh(ACRONYM_DATASET_PATH, \"ScrewDriver\", \"28d\")\n",
    "mesh.apply_scale(8.0)"
   ]
  },
  {
   "cell_type": "code",
   "execution_count": 4,
   "metadata": {},
   "outputs": [
    {
     "name": "stderr",
     "output_type": "stream",
     "text": [
      "/tmp/ipykernel_9597/3467568060.py:2: YAMLLoadWarning: calling yaml.load() without Loader=... is deprecated, as the default Loader is unsafe. Please read https://msg.pyyaml.org/load for full details.\n",
      "  cfg = yaml.load(f)\n"
     ]
    }
   ],
   "source": [
    "with open(Path.cwd().parent / \"cfg\" / \"base_config.yaml\", \"r\") as f:\n",
    "    cfg = yaml.load(f)\n",
    "\n",
    "planner = Se3DifGraspPlanner(cfg)"
   ]
  },
  {
   "cell_type": "code",
   "execution_count": 5,
   "metadata": {},
   "outputs": [],
   "source": [
    "camera_data = CameraData(pointcloud=mesh.sample(1000))"
   ]
  },
  {
   "cell_type": "code",
   "execution_count": 6,
   "metadata": {},
   "outputs": [
    {
     "ename": "NotImplementedError",
     "evalue": "",
     "output_type": "error",
     "traceback": [
      "\u001b[0;31m---------------------------------------------------------------------------\u001b[0m",
      "\u001b[0;31mNotImplementedError\u001b[0m                       Traceback (most recent call last)",
      "Cell \u001b[0;32mIn[6], line 1\u001b[0m\n\u001b[0;32m----> 1\u001b[0m grasps \u001b[38;5;241m=\u001b[39m \u001b[43mplanner\u001b[49m\u001b[38;5;241;43m.\u001b[39;49m\u001b[43mplan_grasp\u001b[49m\u001b[43m(\u001b[49m\u001b[43mcamera_data\u001b[49m\u001b[43m)\u001b[49m\n",
      "File \u001b[0;32m/home/catkin_ws/src/grasping-benchmark-panda/grasping_benchmarks/base/grasp_planner_base.py:55\u001b[0m, in \u001b[0;36mBaseGraspPlanner.plan_grasp\u001b[0;34m(self, camera_data, n_candidates)\u001b[0m\n\u001b[1;32m     45\u001b[0m \u001b[38;5;129m@abstractmethod\u001b[39m\n\u001b[1;32m     46\u001b[0m \u001b[38;5;28;01mdef\u001b[39;00m \u001b[38;5;21mplan_grasp\u001b[39m(\u001b[38;5;28mself\u001b[39m, camera_data: CameraData, n_candidates: \u001b[38;5;28mint\u001b[39m \u001b[38;5;241m=\u001b[39m \u001b[38;5;241m1\u001b[39m) \u001b[38;5;241m-\u001b[39m\u001b[38;5;241m>\u001b[39m List[Grasp]:\n\u001b[1;32m     47\u001b[0m \u001b[38;5;250m    \u001b[39m\u001b[38;5;124;03m\"\"\"Computes the given number of grasp candidates from from the given\u001b[39;00m\n\u001b[1;32m     48\u001b[0m \u001b[38;5;124;03m    camera data. When implementing this class it needs to set the self._best_grasp,\u001b[39;00m\n\u001b[1;32m     49\u001b[0m \u001b[38;5;124;03m    self._camera_data and self._grasp_poses properties of its instance accordingly.\u001b[39;00m\n\u001b[0;32m   (...)\u001b[0m\n\u001b[1;32m     53\u001b[0m \u001b[38;5;124;03m        n_candidates (int, optional): The number of grasp candidates to compute. Defaults to 1.\u001b[39;00m\n\u001b[1;32m     54\u001b[0m \u001b[38;5;124;03m    \"\"\"\u001b[39;00m\n\u001b[0;32m---> 55\u001b[0m     \u001b[38;5;28;01mraise\u001b[39;00m \u001b[38;5;167;01mNotImplementedError\u001b[39;00m()\n",
      "\u001b[0;31mNotImplementedError\u001b[0m: "
     ]
    }
   ],
   "source": [
    "grasps = planner.plan_graspss(camera_data)"
   ]
  },
  {
   "cell_type": "code",
   "execution_count": null,
   "metadata": {},
   "outputs": [],
   "source": [
    "def visualize_grasp_axis(H_grasp, gripper_height=None):\n",
    "    gripper_height = gripper_height or 0.02\n",
    "\n",
    "    grasp_point = trimesh.primitives.Sphere(radius=0.004, center=H_grasp[:3, 3])\n",
    "    \n",
    "    # assumption: grasp axis is along z-axis of gripper coordinate system\n",
    "    grasp_vector = trimesh.creation.cylinder(\n",
    "        radius=0.002, segment=(H_grasp[:3, 3], H_grasp[:3, 3] + gripper_height * H_grasp[:3, 2])\n",
    "    )\n",
    "    \n",
    "    return trimesh.util.concatenate([grasp_point, grasp_vector])\n",
    "\n",
    "\n",
    "scene = trimesh.Scene()\n",
    "scene.add_geometry(mesh)\n",
    "\n",
    "for H_grasp in grasps:\n",
    "    scene.add_geometry(create_gripper_marker().apply_transform(H_grasp))\n",
    "    scene.add_geometry(visualize_grasp_axis(H_grasp,1))\n",
    "\n",
    "scene.show()\n"
   ]
  }
 ],
 "metadata": {
  "kernelspec": {
   "display_name": "Python 3",
   "language": "python",
   "name": "python3"
  },
  "language_info": {
   "codemirror_mode": {
    "name": "ipython",
    "version": 3
   },
   "file_extension": ".py",
   "mimetype": "text/x-python",
   "name": "python",
   "nbconvert_exporter": "python",
   "pygments_lexer": "ipython3",
   "version": "3.8.10"
  }
 },
 "nbformat": 4,
 "nbformat_minor": 2
}
