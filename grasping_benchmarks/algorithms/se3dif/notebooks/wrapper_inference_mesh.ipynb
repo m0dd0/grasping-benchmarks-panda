{
 "cells": [
  {
   "cell_type": "code",
   "execution_count": 2,
   "metadata": {},
   "outputs": [
    {
     "ename": "ModuleNotFoundError",
     "evalue": "No module named 'grasping_benchmarks.algorthims'",
     "output_type": "error",
     "traceback": [
      "\u001b[0;31m---------------------------------------------------------------------------\u001b[0m",
      "\u001b[0;31mModuleNotFoundError\u001b[0m                       Traceback (most recent call last)",
      "Cell \u001b[0;32mIn[2], line 9\u001b[0m\n\u001b[1;32m      5\u001b[0m \u001b[38;5;28;01mimport\u001b[39;00m \u001b[38;5;21;01mh5py\u001b[39;00m\n\u001b[1;32m      7\u001b[0m \u001b[38;5;28;01mfrom\u001b[39;00m \u001b[38;5;21;01mse3dif\u001b[39;00m\u001b[38;5;21;01m.\u001b[39;00m\u001b[38;5;21;01mvisualization\u001b[39;00m \u001b[38;5;28;01mimport\u001b[39;00m create_gripper_marker\n\u001b[0;32m----> 9\u001b[0m \u001b[38;5;28;01mfrom\u001b[39;00m \u001b[38;5;21;01mgrasping_benchmarks\u001b[39;00m\u001b[38;5;21;01m.\u001b[39;00m\u001b[38;5;21;01malgorthims\u001b[39;00m\u001b[38;5;21;01m.\u001b[39;00m\u001b[38;5;21;01mse3dif\u001b[39;00m \u001b[38;5;28;01mimport\u001b[39;00m Se3DifGraspPlanner\n\u001b[1;32m     10\u001b[0m \u001b[38;5;28;01mfrom\u001b[39;00m \u001b[38;5;21;01mgrasping_benchmarks\u001b[39;00m\u001b[38;5;21;01m.\u001b[39;00m\u001b[38;5;21;01mbase\u001b[39;00m \u001b[38;5;28;01mimport\u001b[39;00m CameraData\n",
      "\u001b[0;31mModuleNotFoundError\u001b[0m: No module named 'grasping_benchmarks.algorthims'"
     ]
    }
   ],
   "source": [
    "from pathlib import Path\n",
    "\n",
    "import yaml\n",
    "import trimesh\n",
    "import h5py\n",
    "\n",
    "from se3dif.visualization import create_gripper_marker\n",
    "\n",
    "from grasping_benchmarks.algorithms.se3dif import Se3DifGraspPlanner\n",
    "from grasping_benchmarks.base import CameraData"
   ]
  },
  {
   "cell_type": "code",
   "execution_count": null,
   "metadata": {},
   "outputs": [],
   "source": [
    "ACRONYM_DATASET_PATH = Path(\"/home/data/\")"
   ]
  },
  {
   "cell_type": "code",
   "execution_count": null,
   "metadata": {},
   "outputs": [],
   "source": [
    "def load_acronym_mesh(\n",
    "    dataset_path: Path, object_class: str, grasp_uuid: str\n",
    ") -> trimesh.Trimesh:\n",
    "    \"\"\"Loads the mesh associated with the given grasp from the ACRONYM dataset.\n",
    "    Centers the mesh at the origin and scales the mesh according to the scale stored in the dataset.\n",
    "\n",
    "    Args:\n",
    "        dataset_path (Path): Path to the dataset\n",
    "        object_class (str): Object class\n",
    "        grasp_uuid (str): UUID of the grasp\n",
    "    \"\"\"\n",
    "    assert object_class in [\n",
    "        p.name for p in (dataset_path / \"grasps\").iterdir()\n",
    "    ], f\"Object class {object_class} not found in dataset path {dataset_path}/grasps\"\n",
    "\n",
    "    grasp_file_path = list(\n",
    "        (dataset_path / \"grasps\" / object_class).glob(\n",
    "            f\"{object_class}_{grasp_uuid}*.h5\"\n",
    "        )\n",
    "    )\n",
    "\n",
    "    assert len(grasp_file_path) != 0, f\"Grasp file not found: {grasp_file_path}\"\n",
    "    assert len(grasp_file_path) < 2, f\"Multiple grasp files found: {grasp_file_path}\"\n",
    "    grasp_file_path = grasp_file_path[0]\n",
    "\n",
    "    grasp_data = h5py.File(grasp_file_path, \"r\")\n",
    "    mesh_scale = grasp_data[\"object\"][\"scale\"][()]\n",
    "    mesh_file_path = (\n",
    "        dataset_path\n",
    "        / \"meshes\"\n",
    "        / grasp_data[\"object\"][\"file\"][()].decode(\"utf-8\")[len(\"meshes\") + 1 :]\n",
    "    )\n",
    "\n",
    "    mesh = trimesh.load_mesh(mesh_file_path)\n",
    "    if type(mesh) == trimesh.scene.scene.Scene:\n",
    "        mesh = trimesh.util.concatenate(mesh.dump())\n",
    "    mesh = mesh.apply_translation(-mesh.centroid)\n",
    "    mesh = mesh.apply_scale(mesh_scale)\n",
    "\n",
    "    return mesh\n",
    "\n",
    "mesh = load_acronym_mesh(ACRONYM_DATASET_PATH, \"ScrewDriver\", \"28d\")\n",
    "mesh.apply_scale(8.0)"
   ]
  },
  {
   "cell_type": "code",
   "execution_count": null,
   "metadata": {},
   "outputs": [],
   "source": [
    "with open(Path.cwd().parent / \"cfg\" / \"base_config.yaml\", \"r\") as f:\n",
    "    cfg = yaml.load(f)\n",
    "\n",
    "planner = Se3DifGraspPlanner(cfg)"
   ]
  },
  {
   "cell_type": "code",
   "execution_count": null,
   "metadata": {},
   "outputs": [],
   "source": [
    "camera_data = CameraData(pointcloud=mesh.sample(1000))"
   ]
  },
  {
   "cell_type": "code",
   "execution_count": null,
   "metadata": {},
   "outputs": [],
   "source": [
    "grasps = planner.plan_grasp(camera_data)"
   ]
  },
  {
   "cell_type": "code",
   "execution_count": null,
   "metadata": {},
   "outputs": [],
   "source": [
    "def visualize_grasp_axis(H_grasp, gripper_height=None):\n",
    "    gripper_height = gripper_height or 0.02\n",
    "\n",
    "    grasp_point = trimesh.primitives.Sphere(radius=0.004, center=H_grasp[:3, 3])\n",
    "    \n",
    "    # assumption: grasp axis is along z-axis of gripper coordinate system\n",
    "    grasp_vector = trimesh.creation.cylinder(\n",
    "        radius=0.002, segment=(H_grasp[:3, 3], H_grasp[:3, 3] + gripper_height * H_grasp[:3, 2])\n",
    "    )\n",
    "    \n",
    "    return trimesh.util.concatenate([grasp_point, grasp_vector])\n",
    "\n",
    "\n",
    "scene = trimesh.Scene()\n",
    "scene.add_geometry(mesh)\n",
    "\n",
    "for H_grasp in grasps:\n",
    "    scene.add_geometry(create_gripper_marker().apply_transform(H_grasp))\n",
    "    scene.add_geometry(visualize_grasp_axis(H_grasp,1))\n",
    "\n",
    "scene.show()\n"
   ]
  }
 ],
 "metadata": {
  "kernelspec": {
   "display_name": "Python 3",
   "language": "python",
   "name": "python3"
  },
  "language_info": {
   "codemirror_mode": {
    "name": "ipython",
    "version": 3
   },
   "file_extension": ".py",
   "mimetype": "text/x-python",
   "name": "python",
   "nbconvert_exporter": "python",
   "pygments_lexer": "ipython3",
   "version": "3.8.10"
  }
 },
 "nbformat": 4,
 "nbformat_minor": 2
}
