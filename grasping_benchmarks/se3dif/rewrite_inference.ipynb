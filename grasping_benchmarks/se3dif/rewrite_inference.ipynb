{
 "cells": [
  {
   "cell_type": "code",
   "execution_count": 1,
   "metadata": {},
   "outputs": [
    {
     "ename": "ModuleNotFoundError",
     "evalue": "No module named 'se3dif.models'",
     "output_type": "error",
     "traceback": [
      "\u001b[0;31m---------------------------------------------------------------------------\u001b[0m",
      "\u001b[0;31mModuleNotFoundError\u001b[0m                       Traceback (most recent call last)",
      "Cell \u001b[0;32mIn[1], line 10\u001b[0m\n\u001b[1;32m      8\u001b[0m \u001b[38;5;28;01mimport\u001b[39;00m \u001b[38;5;21;01mscipy\u001b[39;00m\u001b[38;5;21;01m.\u001b[39;00m\u001b[38;5;21;01mspatial\u001b[39;00m\u001b[38;5;21;01m.\u001b[39;00m\u001b[38;5;21;01mtransform\u001b[39;00m\n\u001b[1;32m      9\u001b[0m \u001b[38;5;28;01mimport\u001b[39;00m \u001b[38;5;21;01mnumpy\u001b[39;00m \u001b[38;5;28;01mas\u001b[39;00m \u001b[38;5;21;01mnp\u001b[39;00m\n\u001b[0;32m---> 10\u001b[0m \u001b[38;5;28;01mfrom\u001b[39;00m \u001b[38;5;21;01mse3dif\u001b[39;00m\u001b[38;5;21;01m.\u001b[39;00m\u001b[38;5;21;01mmodels\u001b[39;00m\u001b[38;5;21;01m.\u001b[39;00m\u001b[38;5;21;01mloader\u001b[39;00m \u001b[38;5;28;01mimport\u001b[39;00m load_model\n\u001b[1;32m     11\u001b[0m \u001b[38;5;28;01mfrom\u001b[39;00m \u001b[38;5;21;01mse3dif\u001b[39;00m\u001b[38;5;21;01m.\u001b[39;00m\u001b[38;5;21;01msamplers\u001b[39;00m \u001b[38;5;28;01mimport\u001b[39;00m ApproximatedGrasp_AnnealedLD, Grasp_AnnealedLD\n\u001b[1;32m     12\u001b[0m \u001b[38;5;28;01mfrom\u001b[39;00m \u001b[38;5;21;01mse3dif\u001b[39;00m\u001b[38;5;21;01m.\u001b[39;00m\u001b[38;5;21;01mutils\u001b[39;00m \u001b[38;5;28;01mimport\u001b[39;00m to_numpy, to_torch\n",
      "\u001b[0;31mModuleNotFoundError\u001b[0m: No module named 'se3dif.models'"
     ]
    }
   ],
   "source": [
    "import copy\n",
    "from typing import Tuple\n",
    "from pathlib import Path\n",
    "import h5py\n",
    "\n",
    "import trimesh\n",
    "\n",
    "import scipy.spatial.transform\n",
    "import numpy as np\n",
    "from se3dif.models.loader import load_model\n",
    "from se3dif.samplers import ApproximatedGrasp_AnnealedLD, Grasp_AnnealedLD\n",
    "from se3dif.utils import to_numpy, to_torch\n",
    "from se3dif.visualization import create_gripper_marker"
   ]
  },
  {
   "cell_type": "code",
   "execution_count": null,
   "metadata": {},
   "outputs": [],
   "source": [
    "ACRONYM_DATASET_PATH = Path(\"/home/data/\")"
   ]
  },
  {
   "cell_type": "code",
   "execution_count": null,
   "metadata": {},
   "outputs": [],
   "source": [
    "def load_acronym_mesh(\n",
    "    dataset_path: Path, object_class: str, grasp_uuid: str\n",
    ") -> trimesh.Trimesh:\n",
    "    assert object_class in [\n",
    "        p.name for p in (dataset_path / \"grasps\").iterdir()\n",
    "    ], f\"Object class {object_class} not found in dataset path {dataset_path}/grasps\"\n",
    "\n",
    "    grasp_file_path = list(\n",
    "        (dataset_path / \"grasps\" / object_class).glob(\n",
    "            f\"{object_class}_{grasp_uuid}*.h5\"\n",
    "        )\n",
    "    )\n",
    "\n",
    "    assert len(grasp_file_path) != 0, f\"Grasp file not found: {grasp_file_path}\"\n",
    "    assert len(grasp_file_path) < 2, f\"Multiple grasp files found: {grasp_file_path}\"\n",
    "    grasp_file_path = grasp_file_path[0]\n",
    "\n",
    "    grasp_data = h5py.File(grasp_file_path, \"r\")\n",
    "    mesh_scale = grasp_data[\"object\"][\"scale\"][()]\n",
    "    mesh_file_path = (\n",
    "        dataset_path\n",
    "        / \"meshes\"\n",
    "        / grasp_data[\"object\"][\"file\"][()].decode(\"utf-8\")[len(\"meshes\") + 1 :]\n",
    "    )\n",
    "\n",
    "    mesh = trimesh.load_mesh(mesh_file_path)\n",
    "    if type(mesh) == trimesh.scene.scene.Scene:\n",
    "        mesh = trimesh.util.concatenate(mesh.dump())\n",
    "    mesh = mesh.apply_translation(-mesh.centroid)\n",
    "    mesh = mesh.apply_scale(mesh_scale)\n",
    "\n",
    "    return mesh\n",
    "\n"
   ]
  },
  {
   "cell_type": "code",
   "execution_count": null,
   "metadata": {},
   "outputs": [],
   "source": [
    "mesh = load_acronym_mesh(ACRONYM_DATASET_PATH, \"ScrewDriver\", \"28d\")\n",
    "\n",
    "# scene = trimesh.Scene(mesh)\n",
    "# scene.add_geometry(trimesh.creation.axis(origin_size=0.005, axis_radius=0.001, axis_length=0.1))\n",
    "# scene.show()"
   ]
  },
  {
   "cell_type": "code",
   "execution_count": null,
   "metadata": {},
   "outputs": [],
   "source": [
    "def get_pointcloud_for_inference(\n",
    "    mesh, random_rotation: bool = False, scaling_factor: float = 8.0, n_points: int = 1000\n",
    "):\n",
    "    mesh = copy.deepcopy(mesh)\n",
    "\n",
    "    H_rot = np.eye(4)\n",
    "    if random_rotation:\n",
    "        H_rot[:3, :3] = scipy.spatial.transform.Rotation.random().as_matrix()\n",
    "    mesh.apply_transform(H_rot)\n",
    "\n",
    "    mesh.apply_scale(scaling_factor)\n",
    "\n",
    "    pointcloud = mesh.sample(n_points)\n",
    "\n",
    "    return pointcloud, mesh, H_rot"
   ]
  },
  {
   "cell_type": "code",
   "execution_count": null,
   "metadata": {},
   "outputs": [],
   "source": [
    "pointcloud, mesh_transformed, H_rot = get_pointcloud_for_inference(\n",
    "    mesh, random_rotation=False, scaling_factor=8.0, n_points=1000\n",
    ")\n",
    "\n",
    "# scene = trimesh.Scene(mesh_transformed)\n",
    "# scene.add_geometry(\n",
    "#     [trimesh.primitives.Sphere(radius=0.01, center=p) for p in pointcloud]\n",
    "# )\n",
    "# scene.add_geometry(trimesh.creation.axis(origin_size=0.05, axis_radius=0.01, axis_length=1))\n",
    "# scene.show()"
   ]
  },
  {
   "cell_type": "code",
   "execution_count": null,
   "metadata": {},
   "outputs": [],
   "source": [
    "def get_fitted_grasp_generator(\n",
    "    pointcloud, model, device, batch, T: int = 70, T_fit: int = 50, k_steps: int = 2\n",
    "):\n",
    "    model.set_latent(to_torch(pointcloud[None, ...], device), batch=batch)\n",
    "    generator = Grasp_AnnealedLD(\n",
    "        model, batch=batch, T=70, T_fit=50, k_steps=2, device=device\n",
    "    )\n",
    "    return generator"
   ]
  },
  {
   "cell_type": "code",
   "execution_count": null,
   "metadata": {},
   "outputs": [],
   "source": [
    "DEVICE = \"cuda:0\"\n",
    "MODEL = \"grasp_dif_multi\"\n",
    "BATCH = 10"
   ]
  },
  {
   "cell_type": "code",
   "execution_count": null,
   "metadata": {},
   "outputs": [],
   "source": [
    "model = load_model({\"device\": DEVICE, \"pretrained_model\": MODEL})\n",
    "generator = get_fitted_grasp_generator(pointcloud, model, DEVICE, batch=BATCH)\n",
    "\n",
    "H_grasps = to_numpy(generator.sample())\n",
    "H_grasps_rescaled = H_grasps.copy()\n",
    "H_grasps_rescaled[:, :3, 3] /= 8.0"
   ]
  },
  {
   "cell_type": "code",
   "execution_count": null,
   "metadata": {},
   "outputs": [],
   "source": [
    "scene = trimesh.Scene()\n",
    "scene.add_geometry(mesh)\n",
    "\n",
    "for H_grasp in H_grasps_rescaled:\n",
    "    scene.add_geometry(create_gripper_marker().apply_transform(H_grasp))\n",
    "\n",
    "scene.show()"
   ]
  }
 ],
 "metadata": {
  "kernelspec": {
   "display_name": "se3dif_env",
   "language": "python",
   "name": "python3"
  },
  "language_info": {
   "codemirror_mode": {
    "name": "ipython",
    "version": 3
   },
   "file_extension": ".py",
   "mimetype": "text/x-python",
   "name": "python",
   "nbconvert_exporter": "python",
   "pygments_lexer": "ipython3",
   "version": "3.10.12"
  }
 },
 "nbformat": 4,
 "nbformat_minor": 2
}
