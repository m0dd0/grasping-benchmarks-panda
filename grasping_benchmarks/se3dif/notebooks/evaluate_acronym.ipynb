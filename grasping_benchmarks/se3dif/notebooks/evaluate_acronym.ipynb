{
 "cells": [
  {
   "cell_type": "code",
   "execution_count": 1,
   "metadata": {},
   "outputs": [],
   "source": [
    "from pathlib import Path\n",
    "\n",
    "import trimesh\n",
    "import numpy as np\n",
    "import h5py\n"
   ]
  },
  {
   "cell_type": "code",
   "execution_count": 2,
   "metadata": {},
   "outputs": [],
   "source": [
    "def load_acronym_mesh(\n",
    "    dataset_path: Path, object_class: str, grasp_uuid: str\n",
    ") -> trimesh.Trimesh:\n",
    "    \"\"\"Loads an object from the Acronym dataset.\n",
    "    Centers the mesh at the origin and scales the mesh according to the scale stored in the dataset.\n",
    "\n",
    "    Args:\n",
    "        dataset_path (Path): Path to the dataset\n",
    "        object_class (str): Object class\n",
    "        grasp_uuid (str): UUID of the grasp\n",
    "    \"\"\"\n",
    "    \n",
    "    assert object_class in [\n",
    "        p.name for p in (dataset_path / \"grasps\").iterdir()\n",
    "    ], f\"Object class {object_class} not found in dataset path {dataset_path}/grasps\"\n",
    "\n",
    "    grasp_file_path = list(\n",
    "        (dataset_path / \"grasps\" / object_class).glob(\n",
    "            f\"{object_class}_{grasp_uuid}*.h5\"\n",
    "        )\n",
    "    )\n",
    "\n",
    "    assert len(grasp_file_path) != 0, f\"Grasp file not found: {grasp_file_path}\"\n",
    "    assert len(grasp_file_path) < 2, f\"Multiple grasp files found: {grasp_file_path}\"\n",
    "    grasp_file_path = grasp_file_path[0]\n",
    "\n",
    "    grasp_data = h5py.File(grasp_file_path, \"r\")\n",
    "    mesh_scale = grasp_data[\"object\"][\"scale\"][()]\n",
    "    mesh_file_path = (\n",
    "        dataset_path\n",
    "        / \"meshes\"\n",
    "        / grasp_data[\"object\"][\"file\"][()].decode(\"utf-8\")[len(\"meshes\") + 1 :]\n",
    "    )\n",
    "\n",
    "    mesh = trimesh.load_mesh(mesh_file_path)\n",
    "    if type(mesh) == trimesh.scene.scene.Scene:\n",
    "        mesh = trimesh.util.concatenate(mesh.dump())\n",
    "    mesh = mesh.apply_translation(-mesh.centroid)\n",
    "    mesh = mesh.apply_scale(mesh_scale)\n",
    "\n",
    "    return mesh"
   ]
  },
  {
   "cell_type": "code",
   "execution_count": 4,
   "metadata": {},
   "outputs": [
    {
     "ename": "AssertionError",
     "evalue": "Multiple grasp files found: [PosixPath('/home/data/grasps/PianoKeyboard/PianoKeyboard_423d14787208578580ff80bf789cd_0.004542245094319145.h5'), PosixPath('/home/data/grasps/PianoKeyboard/PianoKeyboard_423d14787208578580ff80bf789cd_0.003650831028787507.h5')]",
     "output_type": "error",
     "traceback": [
      "\u001b[0;31m---------------------------------------------------------------------------\u001b[0m",
      "\u001b[0;31mAssertionError\u001b[0m                            Traceback (most recent call last)",
      "Cell \u001b[0;32mIn[4], line 6\u001b[0m\n\u001b[1;32m      4\u001b[0m object_class \u001b[38;5;241m=\u001b[39m folder\u001b[38;5;241m.\u001b[39mname\n\u001b[1;32m      5\u001b[0m first_grasp_uuid \u001b[38;5;241m=\u001b[39m \u001b[38;5;28mnext\u001b[39m(folder\u001b[38;5;241m.\u001b[39miterdir())\u001b[38;5;241m.\u001b[39mname\u001b[38;5;241m.\u001b[39msplit(\u001b[38;5;124m\"\u001b[39m\u001b[38;5;124m_\u001b[39m\u001b[38;5;124m\"\u001b[39m)[\u001b[38;5;241m1\u001b[39m]\n\u001b[0;32m----> 6\u001b[0m mesh \u001b[38;5;241m=\u001b[39m \u001b[43mload_acronym_mesh\u001b[49m\u001b[43m(\u001b[49m\u001b[43mACRONYM_PATH\u001b[49m\u001b[43m,\u001b[49m\u001b[43m \u001b[49m\u001b[43mobject_class\u001b[49m\u001b[43m,\u001b[49m\u001b[43m \u001b[49m\u001b[43mfirst_grasp_uuid\u001b[49m\u001b[43m)\u001b[49m\n\u001b[1;32m      7\u001b[0m \u001b[38;5;28mprint\u001b[39m(mesh\u001b[38;5;241m.\u001b[39mbounding_box\u001b[38;5;241m.\u001b[39mextents)\n\u001b[1;32m      8\u001b[0m \u001b[38;5;66;03m# for grasp_file in folder.iterdir():\u001b[39;00m\n\u001b[1;32m      9\u001b[0m \u001b[38;5;66;03m#     grasp_uuid = grasp_file.name.split(\"_\")[1].split(\".\")[0]\u001b[39;00m\n\u001b[1;32m     10\u001b[0m \u001b[38;5;66;03m#     mesh = load_acronym_mesh(ACRONYM_PATH, object_class, grasp_uuid)\u001b[39;00m\n\u001b[1;32m     11\u001b[0m \u001b[38;5;66;03m#     print(mesh)\u001b[39;00m\n\u001b[1;32m     12\u001b[0m \u001b[38;5;66;03m#     break\u001b[39;00m\n",
      "Cell \u001b[0;32mIn[2], line 24\u001b[0m, in \u001b[0;36mload_acronym_mesh\u001b[0;34m(dataset_path, object_class, grasp_uuid)\u001b[0m\n\u001b[1;32m     17\u001b[0m grasp_file_path \u001b[38;5;241m=\u001b[39m \u001b[38;5;28mlist\u001b[39m(\n\u001b[1;32m     18\u001b[0m     (dataset_path \u001b[38;5;241m/\u001b[39m \u001b[38;5;124m\"\u001b[39m\u001b[38;5;124mgrasps\u001b[39m\u001b[38;5;124m\"\u001b[39m \u001b[38;5;241m/\u001b[39m object_class)\u001b[38;5;241m.\u001b[39mglob(\n\u001b[1;32m     19\u001b[0m         \u001b[38;5;124mf\u001b[39m\u001b[38;5;124m\"\u001b[39m\u001b[38;5;132;01m{\u001b[39;00mobject_class\u001b[38;5;132;01m}\u001b[39;00m\u001b[38;5;124m_\u001b[39m\u001b[38;5;132;01m{\u001b[39;00mgrasp_uuid\u001b[38;5;132;01m}\u001b[39;00m\u001b[38;5;124m*.h5\u001b[39m\u001b[38;5;124m\"\u001b[39m\n\u001b[1;32m     20\u001b[0m     )\n\u001b[1;32m     21\u001b[0m )\n\u001b[1;32m     23\u001b[0m \u001b[38;5;28;01massert\u001b[39;00m \u001b[38;5;28mlen\u001b[39m(grasp_file_path) \u001b[38;5;241m!=\u001b[39m \u001b[38;5;241m0\u001b[39m, \u001b[38;5;124mf\u001b[39m\u001b[38;5;124m\"\u001b[39m\u001b[38;5;124mGrasp file not found: \u001b[39m\u001b[38;5;132;01m{\u001b[39;00mgrasp_file_path\u001b[38;5;132;01m}\u001b[39;00m\u001b[38;5;124m\"\u001b[39m\n\u001b[0;32m---> 24\u001b[0m \u001b[38;5;28;01massert\u001b[39;00m \u001b[38;5;28mlen\u001b[39m(grasp_file_path) \u001b[38;5;241m<\u001b[39m \u001b[38;5;241m2\u001b[39m, \u001b[38;5;124mf\u001b[39m\u001b[38;5;124m\"\u001b[39m\u001b[38;5;124mMultiple grasp files found: \u001b[39m\u001b[38;5;132;01m{\u001b[39;00mgrasp_file_path\u001b[38;5;132;01m}\u001b[39;00m\u001b[38;5;124m\"\u001b[39m\n\u001b[1;32m     25\u001b[0m grasp_file_path \u001b[38;5;241m=\u001b[39m grasp_file_path[\u001b[38;5;241m0\u001b[39m]\n\u001b[1;32m     27\u001b[0m grasp_data \u001b[38;5;241m=\u001b[39m h5py\u001b[38;5;241m.\u001b[39mFile(grasp_file_path, \u001b[38;5;124m\"\u001b[39m\u001b[38;5;124mr\u001b[39m\u001b[38;5;124m\"\u001b[39m)\n",
      "\u001b[0;31mAssertionError\u001b[0m: Multiple grasp files found: [PosixPath('/home/data/grasps/PianoKeyboard/PianoKeyboard_423d14787208578580ff80bf789cd_0.004542245094319145.h5'), PosixPath('/home/data/grasps/PianoKeyboard/PianoKeyboard_423d14787208578580ff80bf789cd_0.003650831028787507.h5')]"
     ]
    }
   ],
   "source": [
    "ACRONYM_PATH = Path(\"/home/data\")\n",
    "\n",
    "for object_class_path in (ACRONYM_PATH / \"grasps\").iterdir():\n",
    "    for grasp_file_path in object_class_path.iterdir():\n",
    "        grasp_data = h5py.File(grasp_file_path, \"r\")\n",
    "\n",
    "        mesh_scale = grasp_data[\"object\"][\"scale\"][()]\n",
    "        mesh_file_path = (\n",
    "            ACRONYM_PATH\n",
    "            / \"meshes\"\n",
    "            / grasp_data[\"object\"][\"file\"][()].decode(\"utf-8\")[len(\"meshes\") + 1 :]\n",
    "        )\n",
    "\n",
    "mesh = trimesh.load_mesh(mesh_file_path)\n",
    "if type(mesh) == trimesh.scene.scene.Scene:\n",
    "    mesh = trimesh.util.concatenate(mesh.dump())\n",
    "mesh = mesh.apply_translation(-mesh.centroid)\n",
    "mesh = mesh.apply_scale(mesh_scale)"
   ]
  }
 ],
 "metadata": {
  "kernelspec": {
   "display_name": "Python 3",
   "language": "python",
   "name": "python3"
  },
  "language_info": {
   "codemirror_mode": {
    "name": "ipython",
    "version": 3
   },
   "file_extension": ".py",
   "mimetype": "text/x-python",
   "name": "python",
   "nbconvert_exporter": "python",
   "pygments_lexer": "ipython3",
   "version": "3.8.10"
  }
 },
 "nbformat": 4,
 "nbformat_minor": 2
}
