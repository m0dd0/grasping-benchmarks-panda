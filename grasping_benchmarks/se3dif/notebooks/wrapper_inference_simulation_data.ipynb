{
 "cells": [
  {
   "cell_type": "markdown",
   "metadata": {},
   "source": [
    "This notebook is a simple sanity check for the wrapper of the se3dif algorithm using simulated data."
   ]
  },
  {
   "cell_type": "code",
   "execution_count": null,
   "metadata": {},
   "outputs": [],
   "source": [
    "from pathlib import Path\n",
    "\n",
    "import yaml\n",
    "import trimesh\n",
    "import numpy as np\n",
    "\n",
    "from se3dif.visualization import create_gripper_marker\n",
    "\n",
    "from grasping_benchmarks.algorithms.se3dif import Se3DifGraspPlanner\n",
    "from grasping_benchmarks.base import CameraData\n",
    "from grasping_benchmarks.base.transformations import rotation_and_position_to_homogeneous_matrix"
   ]
  },
  {
   "cell_type": "code",
   "execution_count": null,
   "metadata": {},
   "outputs": [],
   "source": [
    "ACRONYM_DATASET_PATH = Path(\"/home/data/\")"
   ]
  },
  {
   "cell_type": "code",
   "execution_count": null,
   "metadata": {},
   "outputs": [],
   "source": [
    "pointcloud = np.load(\n",
    "    list(\n",
    "        (\n",
    "            Path.cwd().parent\n",
    "            / \"test_data\"\n",
    "            / \"pointcloud_segmented_points\"\n",
    "            / \"011_banana\"\n",
    "        ).glob(\"*.npy\")\n",
    "    )[0]\n",
    ")\n",
    "\n",
    "pointcloud.shape"
   ]
  },
  {
   "cell_type": "code",
   "execution_count": null,
   "metadata": {},
   "outputs": [],
   "source": [
    "N_POINTS = 1000\n",
    "TARGET_MAX_SIZE = 0.3*8 # 0.3 is roughly the average max extent of the objects in the dataset\n",
    "\n",
    "pointcloud = pointcloud[np.random.choice(len(pointcloud), N_POINTS)]\n",
    "pointcloud_offset = np.mean(pointcloud, axis=0)\n",
    "pointcloud -= pointcloud_offset\n",
    "\n",
    "pointcloud_extents = np.max(pointcloud, axis=0) - np.min(pointcloud, axis=0)\n",
    "scale_factor = TARGET_MAX_SIZE / np.max(pointcloud_extents)\n",
    "pointcloud *= scale_factor"
   ]
  },
  {
   "cell_type": "code",
   "execution_count": null,
   "metadata": {},
   "outputs": [],
   "source": [
    "with open(Path.cwd().parent / \"cfg\" / \"base_config.yaml\", \"r\") as f:\n",
    "    cfg = yaml.load(f)\n",
    "\n",
    "planner = Se3DifGraspPlanner(cfg)"
   ]
  },
  {
   "cell_type": "code",
   "execution_count": null,
   "metadata": {},
   "outputs": [],
   "source": [
    "camera_data = CameraData(pointcloud=pointcloud)"
   ]
  },
  {
   "cell_type": "code",
   "execution_count": null,
   "metadata": {},
   "outputs": [],
   "source": [
    "grasps = planner.plan_grasps(camera_data)"
   ]
  },
  {
   "cell_type": "code",
   "execution_count": null,
   "metadata": {},
   "outputs": [],
   "source": [
    "def visualize_grasp_axis(H_grasp, gripper_height=None):\n",
    "    gripper_height = gripper_height or 0.02\n",
    "\n",
    "    grasp_point = trimesh.primitives.Sphere(radius=0.004, center=H_grasp[:3, 3])\n",
    "\n",
    "    # assumption: grasp axis is along z-axis of gripper coordinate system\n",
    "    grasp_vector = trimesh.creation.cylinder(\n",
    "        radius=0.002,\n",
    "        segment=(H_grasp[:3, 3], H_grasp[:3, 3] + gripper_height * H_grasp[:3, 2]),\n",
    "    )\n",
    "\n",
    "    return trimesh.util.concatenate([grasp_point, grasp_vector])\n",
    "\n",
    "\n",
    "scene = trimesh.Scene()\n",
    "for point in pointcloud:\n",
    "    scene.add_geometry(trimesh.primitives.Sphere(radius=0.02, center=point))\n",
    "\n",
    "for grasp in grasps:\n",
    "    H_grasp = rotation_and_position_to_homogeneous_matrix(\n",
    "        grasp.rotation, grasp.position\n",
    "    )\n",
    "    scene.add_geometry(create_gripper_marker().apply_transform(H_grasp))\n",
    "    scene.add_geometry(visualize_grasp_axis(H_grasp, 1))\n",
    "\n",
    "scene.show()"
   ]
  }
 ],
 "metadata": {
  "kernelspec": {
   "display_name": "Python 3",
   "language": "python",
   "name": "python3"
  },
  "language_info": {
   "codemirror_mode": {
    "name": "ipython",
    "version": 3
   },
   "file_extension": ".py",
   "mimetype": "text/x-python",
   "name": "python",
   "nbconvert_exporter": "python",
   "pygments_lexer": "ipython3",
   "version": "3.8.10"
  }
 },
 "nbformat": 4,
 "nbformat_minor": 2
}
