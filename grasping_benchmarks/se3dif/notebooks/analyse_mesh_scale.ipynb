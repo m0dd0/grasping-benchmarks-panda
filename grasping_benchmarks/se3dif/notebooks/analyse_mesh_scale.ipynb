{
 "cells": [
  {
   "cell_type": "markdown",
   "metadata": {},
   "source": [
    "The dataset from the grasp_diffusion package is a modified version of the ACRONYM dataset.\n",
    "In this notebook the structure of the dataset is analysed."
   ]
  },
  {
   "cell_type": "code",
   "execution_count": 3,
   "metadata": {},
   "outputs": [],
   "source": [
    "from pathlib import Path\n",
    "import random\n",
    "import math\n",
    "\n",
    "import trimesh\n",
    "import h5py"
   ]
  },
  {
   "cell_type": "code",
   "execution_count": 4,
   "metadata": {},
   "outputs": [],
   "source": [
    "DATASET_PATH = Path(\"/home/data\")"
   ]
  },
  {
   "cell_type": "code",
   "execution_count": 6,
   "metadata": {},
   "outputs": [
    {
     "data": {
      "text/plain": [
       "True"
      ]
     },
     "execution_count": 6,
     "metadata": {},
     "output_type": "execute_result"
    }
   ],
   "source": [
    "set([p.name for p in (DATASET_PATH / \"grasps\").iterdir()]) == set(\n",
    "    [p.name for p in (DATASET_PATH / \"meshes\").iterdir()]\n",
    ")\n",
    "# -> both directories have the same folders"
   ]
  },
  {
   "cell_type": "code",
   "execution_count": null,
   "metadata": {},
   "outputs": [],
   "source": [
    "for object_name in [p.name for p in (DATASET_PATH / \"grasps\").iterdir()]:\n",
    "    for filename in (DATASET_PATH / \"grasps\" / object_name).iterdir():"
   ]
  },
  {
   "cell_type": "code",
   "execution_count": null,
   "metadata": {},
   "outputs": [],
   "source": [
    "def load_mesh(grasp_file_path):\n",
    "    grasp_data = h5py.File(grasp_file_path, 'r')\n",
    "    mesh_scale = grasp_data[\"object\"][\"scale\"][()]\n",
    "    mesh_file_path = (\n",
    "        MESHES_PATH / grasp_data[\"object\"][\"file\"][()].decode(\"utf-8\")[len(\"meshes\") + 1 :]\n",
    "    )\n",
    "    mesh = trimesh.load_mesh(mesh_file_path)\n",
    "    if type(mesh) == trimesh.scene.scene.Scene:\n",
    "        mesh = trimesh.util.concatenate(mesh.dump())\n",
    "    mesh = mesh.apply_translation(-mesh.centroid)\n",
    "    mesh = mesh.apply_scale(mesh_scale)\n",
    "    # turn 90 degrees around x axis\n",
    "    mesh = mesh.apply_transform(trimesh.transformations.rotation_matrix(\n",
    "        angle=-math.pi/2, direction=[1, 0, 0], point=[0, 0, 0]\n",
    "    ))\n",
    "\n",
    "    return mesh"
   ]
  },
  {
   "cell_type": "code",
   "execution_count": null,
   "metadata": {},
   "outputs": [],
   "source": [
    "N_OBJECTS = 10\n",
    "\n",
    "random.seed(42)\n",
    "grasp_file_paths = random.sample(list(GRASPS_PATH.rglob(\"*.h5\")), N_OBJECTS)\n",
    "\n",
    "meshes = [load_mesh(grasp_file_path) for grasp_file_path in grasp_file_paths]"
   ]
  },
  {
   "cell_type": "code",
   "execution_count": null,
   "metadata": {},
   "outputs": [],
   "source": [
    "for mesh, path in zip(meshes, grasp_file_paths):\n",
    "    print(path.parts[-2], mesh.bounds[1] - mesh.bounds[0], mesh.units)"
   ]
  },
  {
   "cell_type": "code",
   "execution_count": null,
   "metadata": {},
   "outputs": [],
   "source": [
    "SIZE = 1\n",
    "\n",
    "scene = trimesh.Scene()\n",
    "scene.add_geometry(trimesh.creation.axis(axis_length=SIZE))\n",
    "\n",
    "for i, mesh in enumerate(meshes):\n",
    "    mesh = mesh.copy().apply_translation([(i + 1) * SIZE, 0, 0])\n",
    "    scene.add_geometry(mesh)\n",
    "    scene.add_geometry(\n",
    "        create_gripper_marker(scale=1.0)\n",
    "        .apply_translation([(i + 1.5) * SIZE, 0, 0])\n",
    "        .apply_transform(\n",
    "            trimesh.transformations.rotation_matrix(\n",
    "                angle=-math.pi/2, direction=[1, 0, 0], point=[0, 0, 0]\n",
    "            )\n",
    "        )\n",
    "    )\n",
    "\n",
    "scene.show()"
   ]
  },
  {
   "cell_type": "code",
   "execution_count": null,
   "metadata": {},
   "outputs": [],
   "source": []
  }
 ],
 "metadata": {
  "kernelspec": {
   "display_name": "se3dif_env",
   "language": "python",
   "name": "python3"
  },
  "language_info": {
   "codemirror_mode": {
    "name": "ipython",
    "version": 3
   },
   "file_extension": ".py",
   "mimetype": "text/x-python",
   "name": "python",
   "nbconvert_exporter": "python",
   "pygments_lexer": "ipython3",
   "version": "3.8.10"
  }
 },
 "nbformat": 4,
 "nbformat_minor": 2
}
