{
 "cells": [
  {
   "cell_type": "code",
   "execution_count": 7,
   "metadata": {},
   "outputs": [],
   "source": [
    "from pathlib import Path\n",
    "\n",
    "import yaml\n",
    "import trimesh\n",
    "import h5py\n",
    "\n",
    "from grasping_benchmarks.se3dif import Se3DifGraspPlanner\n",
    "from grasping_benchmarks.base import CameraData"
   ]
  },
  {
   "cell_type": "code",
   "execution_count": 8,
   "metadata": {},
   "outputs": [],
   "source": [
    "def load_acronym_mesh(\n",
    "    dataset_path: Path, object_class: str, grasp_uuid: str\n",
    ") -> trimesh.Trimesh:\n",
    "    assert object_class in [\n",
    "        p.name for p in (dataset_path / \"grasps\").iterdir()\n",
    "    ], f\"Object class {object_class} not found in dataset path {dataset_path}/grasps\"\n",
    "\n",
    "    grasp_file_path = list(\n",
    "        (dataset_path / \"grasps\" / object_class).glob(\n",
    "            f\"{object_class}_{grasp_uuid}*.h5\"\n",
    "        )\n",
    "    )\n",
    "\n",
    "    assert len(grasp_file_path) != 0, f\"Grasp file not found: {grasp_file_path}\"\n",
    "    assert len(grasp_file_path) < 2, f\"Multiple grasp files found: {grasp_file_path}\"\n",
    "    grasp_file_path = grasp_file_path[0]\n",
    "\n",
    "    grasp_data = h5py.File(grasp_file_path, \"r\")\n",
    "    mesh_scale = grasp_data[\"object\"][\"scale\"][()]\n",
    "    mesh_file_path = (\n",
    "        dataset_path\n",
    "        / \"meshes\"\n",
    "        / grasp_data[\"object\"][\"file\"][()].decode(\"utf-8\")[len(\"meshes\") + 1 :]\n",
    "    )\n",
    "\n",
    "    mesh = trimesh.load_mesh(mesh_file_path)\n",
    "    if type(mesh) == trimesh.scene.scene.Scene:\n",
    "        mesh = trimesh.util.concatenate(mesh.dump())\n",
    "    mesh = mesh.apply_translation(-mesh.centroid)\n",
    "    mesh = mesh.apply_scale(mesh_scale)\n",
    "\n",
    "    return mesh\n",
    "\n",
    "mesh = load_acronym_mesh(Path(\"/home/data/\"), \"ScrewDriver\", \"28d\")"
   ]
  },
  {
   "cell_type": "code",
   "execution_count": 9,
   "metadata": {},
   "outputs": [
    {
     "name": "stderr",
     "output_type": "stream",
     "text": [
      "/tmp/ipykernel_39345/3467568060.py:2: YAMLLoadWarning: calling yaml.load() without Loader=... is deprecated, as the default Loader is unsafe. Please read https://msg.pyyaml.org/load for full details.\n",
      "  cfg = yaml.load(f)\n"
     ]
    }
   ],
   "source": [
    "with open(Path.cwd().parent / \"cfg\" / \"base_config.yaml\", \"r\") as f:\n",
    "    cfg = yaml.load(f)\n",
    "\n",
    "planner = Se3DifGraspPlanner(cfg)"
   ]
  },
  {
   "cell_type": "code",
   "execution_count": 10,
   "metadata": {},
   "outputs": [],
   "source": [
    "camera_data = CameraData(\n",
    "    pointcloud=mesh.vertices\n",
    ")"
   ]
  },
  {
   "cell_type": "code",
   "execution_count": 13,
   "metadata": {},
   "outputs": [
    {
     "name": "stdout",
     "output_type": "stream",
     "text": [
      "None\n"
     ]
    }
   ],
   "source": [
    "grasps = planner.plan_grasp(camera_data)"
   ]
  }
 ],
 "metadata": {
  "kernelspec": {
   "display_name": "Python 3",
   "language": "python",
   "name": "python3"
  },
  "language_info": {
   "codemirror_mode": {
    "name": "ipython",
    "version": 3
   },
   "file_extension": ".py",
   "mimetype": "text/x-python",
   "name": "python",
   "nbconvert_exporter": "python",
   "pygments_lexer": "ipython3",
   "version": "3.8.10"
  }
 },
 "nbformat": 4,
 "nbformat_minor": 2
}
